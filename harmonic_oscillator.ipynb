{
 "cells": [
  {
   "cell_type": "code",
   "execution_count": 3,
   "id": "c6e69c11-6b1e-4db5-a227-67d84495cc6b",
   "metadata": {},
   "outputs": [],
   "source": [
    "from pinns.systems.harmonic_oscillator import HarmonicOscillator0D\n",
    "import torch\n",
    "import deepxde as dde\n",
    "import numpy as np"
   ]
  },
  {
   "cell_type": "code",
   "execution_count": null,
   "id": "9591b8a7-6ab8-4735-bf71-41c1312f6bcc",
   "metadata": {},
   "outputs": [],
   "source": [
    "# Equation parameters\n",
    "\n",
    "xi = 0.5\n",
    "omega0 = 4\n",
    "y0 = 1\n",
    "y1 = 0\n",
    "\n",
    "# Geometry description\n",
    "geom = dde.geometry.Time"
   ]
  }
 ],
 "metadata": {
  "kernelspec": {
   "display_name": "pinns",
   "language": "python",
   "name": "pinns"
  },
  "language_info": {
   "codemirror_mode": {
    "name": "ipython",
    "version": 3
   },
   "file_extension": ".py",
   "mimetype": "text/x-python",
   "name": "python",
   "nbconvert_exporter": "python",
   "pygments_lexer": "ipython3",
   "version": "3.12.5"
  }
 },
 "nbformat": 4,
 "nbformat_minor": 5
}
